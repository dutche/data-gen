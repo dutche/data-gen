{
 "cells": [
  {
   "cell_type": "markdown",
   "id": "409658bb",
   "metadata": {},
   "source": [
    "# Génération d'un fichier client en utilisant une API vers un Chatbot"
   ]
  },
  {
   "cell_type": "code",
   "execution_count": null,
   "id": "89ff24a2",
   "metadata": {},
   "outputs": [],
   "source": [
    "import polars as pl\n",
    "import requests"
   ]
  },
  {
   "cell_type": "code",
   "execution_count": 3,
   "id": "3f60f43c",
   "metadata": {},
   "outputs": [
    {
     "data": {
      "text/html": [
       "<div><style>\n",
       ".dataframe > thead > tr,\n",
       ".dataframe > tbody > tr {\n",
       "  text-align: right;\n",
       "  white-space: pre-wrap;\n",
       "}\n",
       "</style>\n",
       "<small>shape: (3, 3)</small><table border=\"1\" class=\"dataframe\"><thead><tr><th>Name</th><th> Age</th><th> Salary</th></tr><tr><td>str</td><td>str</td><td>str</td></tr></thead><tbody><tr><td>&quot;Alice&quot;</td><td>&quot; 32&quot;</td><td>&quot; 50000.0&quot;</td></tr><tr><td>&quot;Bob&quot;</td><td>&quot; 25&quot;</td><td>&quot; 62000.5&quot;</td></tr><tr><td>&quot;Charlie&quot;</td><td>&quot; 29&quot;</td><td>&quot; 58000.0&quot;</td></tr></tbody></table></div>"
      ],
      "text/plain": [
       "shape: (3, 3)\n",
       "┌─────────┬──────┬──────────┐\n",
       "│ Name    ┆  Age ┆  Salary  │\n",
       "│ ---     ┆ ---  ┆ ---      │\n",
       "│ str     ┆ str  ┆ str      │\n",
       "╞═════════╪══════╪══════════╡\n",
       "│ Alice   ┆  32  ┆  50000.0 │\n",
       "│ Bob     ┆  25  ┆  62000.5 │\n",
       "│ Charlie ┆  29  ┆  58000.0 │\n",
       "└─────────┴──────┴──────────┘"
      ]
     },
     "execution_count": null,
     "metadata": {},
     "output_type": "execute_result"
    }
   ],
   "source": [
    "df = pl.read_csv(\"../sample.csv\")\n",
    "df"
   ]
  },
  {
   "cell_type": "code",
   "execution_count": null,
   "id": "5dda1cc2",
   "metadata": {},
   "outputs": [],
   "source": []
  }
 ],
 "metadata": {
  "language_info": {
   "name": "python"
  }
 },
 "nbformat": 4,
 "nbformat_minor": 5
}
